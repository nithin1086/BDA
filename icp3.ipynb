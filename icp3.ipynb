{
  "nbformat": 4,
  "nbformat_minor": 0,
  "metadata": {
    "colab": {
      "provenance": []
    },
    "kernelspec": {
      "name": "python3",
      "display_name": "Python 3"
    },
    "language_info": {
      "name": "python"
    }
  },
  "cells": [
    {
      "cell_type": "code",
      "execution_count": 1,
      "metadata": {
        "colab": {
          "base_uri": "https://localhost:8080/"
        },
        "id": "EvytmwvVMeEu",
        "outputId": "a83c884a-082f-4df7-8999-5fb8a52b1e6b"
      },
      "outputs": [
        {
          "output_type": "stream",
          "name": "stdout",
          "text": [
            "First 10 rows of the DataFrame:\n",
            "   ID     Value Category\n",
            "0   1  0.937089        D\n",
            "1   2  0.617650        C\n",
            "2   3  0.937451        A\n",
            "3   4  0.482242        C\n",
            "4   5  0.932629        B\n",
            "5   6  0.121914        A\n",
            "6   7  0.542958        A\n",
            "7   8  0.943599        C\n",
            "8   9  0.043794        C\n",
            "9  10  0.655863        D\n",
            "\n",
            "information of 'Value' column:\n",
            "count    1000000.000000\n",
            "mean           0.499845\n",
            "std            0.288605\n",
            "min            0.000001\n",
            "25%            0.249888\n",
            "50%            0.499710\n",
            "75%            0.749561\n",
            "max            0.999999\n",
            "Name: Value, dtype: float64\n"
          ]
        }
      ],
      "source": [
        "import pandas as pd\n",
        "import numpy as np\n",
        "data = {\n",
        "    'ID': np.arange(1, 1000001),\n",
        "    'Value': np.random.rand(1000000),\n",
        "    'Category': np.random.choice(['A', 'B', 'C', 'D'], size=1000000)\n",
        "}\n",
        "df = pd.DataFrame(data)\n",
        "print(\"First 10 rows of the DataFrame:\")\n",
        "print(df.head(10))\n",
        "print(\"\\ninformation of 'Value' column:\")\n",
        "print(df['Value'].describe())\n",
        "\n"
      ]
    },
    {
      "cell_type": "code",
      "source": [
        "import pandas as pd\n",
        "import numpy as np\n",
        "\n",
        "data = {\n",
        "    'ID': np.arange(1, 1000001),\n",
        "    'Value': np.random.rand(1000000),\n",
        "    'Category': np.random.choice(['A', 'B', 'C', 'D'], size=1000000)\n",
        "}\n",
        "df = pd.DataFrame(data)\n",
        "df.columns = ['ID number', 'Random value', 'Choice']\n",
        "print(\"First 5 rows of the modified DataFrame:\")\n",
        "print(df.head())\n"
      ],
      "metadata": {
        "colab": {
          "base_uri": "https://localhost:8080/"
        },
        "id": "KPNn595IO8wg",
        "outputId": "8cf61aef-26c8-4505-f6e2-f5586dc52dbd"
      },
      "execution_count": 2,
      "outputs": [
        {
          "output_type": "stream",
          "name": "stdout",
          "text": [
            "First 5 rows of the modified DataFrame:\n",
            "   ID number  Random value Choice\n",
            "0          1      0.050753      A\n",
            "1          2      0.523959      D\n",
            "2          3      0.847530      A\n",
            "3          4      0.311173      B\n",
            "4          5      0.977262      C\n"
          ]
        }
      ]
    },
    {
      "cell_type": "code",
      "source": [
        "import pandas as pd\n",
        "pd.set_option('display.max_rows', None)\n",
        "pd.set_option('display.max_columns', None)\n",
        "student_data = pd.DataFrame({\n",
        "    'school_code': ['s001', 's002', 's003', 's004', 's002', 's005'],\n",
        "    'class': ['V', 'V', 'VI', 'VI', 'V', 'VI'],\n",
        "    'name': ['Alberto Franco', 'Gino Mcneill', 'Ryan Parkes', 'Eesha Hinton', 'Gino Mcneill', 'David Parkes'],\n",
        "    'date_Of_Birth': ['15/05/2002', '17/05/2002', '16/02/1999', '25/09/1998', '11/05/2002', '15/09/1997'],\n",
        "    'age': [12, 12, 13, 13, 14, 12],\n",
        "    'height': [173, 192, 186, 167, 151, 159],\n",
        "    'weight': [35, 32, 33, 30, 31, 32],\n",
        "    'address': ['street1', 'street2', 'street3', 'street4', 'street2', 'street5']\n",
        "}, index=['S1', 'S2', 'S3', 'S4', 'S5', 'S6'])\n",
        "print(\"Original DataFrame:\")\n",
        "print(student_data)\n",
        "print(\"\\nSplit the data on 'school_code' and 'class' wise:\")\n",
        "result = student_data.groupby(['school_code', 'class'])\n",
        "for name, group in result:\n",
        "    print(\"\\nGroup:\")\n",
        "    print(name)\n",
        "    print(group)\n"
      ],
      "metadata": {
        "colab": {
          "base_uri": "https://localhost:8080/"
        },
        "id": "FWO4diTiQrrs",
        "outputId": "9889e590-52f5-41e4-8f1e-653e82a43798"
      },
      "execution_count": 3,
      "outputs": [
        {
          "output_type": "stream",
          "name": "stdout",
          "text": [
            "Original DataFrame:\n",
            "   school_code class            name date_Of_Birth  age  height  weight  \\\n",
            "S1        s001     V  Alberto Franco    15/05/2002   12     173      35   \n",
            "S2        s002     V    Gino Mcneill    17/05/2002   12     192      32   \n",
            "S3        s003    VI     Ryan Parkes    16/02/1999   13     186      33   \n",
            "S4        s004    VI    Eesha Hinton    25/09/1998   13     167      30   \n",
            "S5        s002     V    Gino Mcneill    11/05/2002   14     151      31   \n",
            "S6        s005    VI    David Parkes    15/09/1997   12     159      32   \n",
            "\n",
            "    address  \n",
            "S1  street1  \n",
            "S2  street2  \n",
            "S3  street3  \n",
            "S4  street4  \n",
            "S5  street2  \n",
            "S6  street5  \n",
            "\n",
            "Split the data on 'school_code' and 'class' wise:\n",
            "\n",
            "Group:\n",
            "('s001', 'V')\n",
            "   school_code class            name date_Of_Birth  age  height  weight  \\\n",
            "S1        s001     V  Alberto Franco    15/05/2002   12     173      35   \n",
            "\n",
            "    address  \n",
            "S1  street1  \n",
            "\n",
            "Group:\n",
            "('s002', 'V')\n",
            "   school_code class          name date_Of_Birth  age  height  weight  address\n",
            "S2        s002     V  Gino Mcneill    17/05/2002   12     192      32  street2\n",
            "S5        s002     V  Gino Mcneill    11/05/2002   14     151      31  street2\n",
            "\n",
            "Group:\n",
            "('s003', 'VI')\n",
            "   school_code class         name date_Of_Birth  age  height  weight  address\n",
            "S3        s003    VI  Ryan Parkes    16/02/1999   13     186      33  street3\n",
            "\n",
            "Group:\n",
            "('s004', 'VI')\n",
            "   school_code class          name date_Of_Birth  age  height  weight  address\n",
            "S4        s004    VI  Eesha Hinton    25/09/1998   13     167      30  street4\n",
            "\n",
            "Group:\n",
            "('s005', 'VI')\n",
            "   school_code class          name date_Of_Birth  age  height  weight  address\n",
            "S6        s005    VI  David Parkes    15/09/1997   12     159      32  street5\n"
          ]
        }
      ]
    },
    {
      "cell_type": "code",
      "source": [
        "pip install pandas"
      ],
      "metadata": {
        "colab": {
          "base_uri": "https://localhost:8080/"
        },
        "id": "JhY2tjKzQ5NR",
        "outputId": "90ff22fd-d3fc-460b-d4b6-f13ff0d1b3f0"
      },
      "execution_count": 4,
      "outputs": [
        {
          "output_type": "stream",
          "name": "stdout",
          "text": [
            "Requirement already satisfied: pandas in /usr/local/lib/python3.10/dist-packages (2.1.4)\n",
            "Requirement already satisfied: numpy<2,>=1.22.4 in /usr/local/lib/python3.10/dist-packages (from pandas) (1.26.4)\n",
            "Requirement already satisfied: python-dateutil>=2.8.2 in /usr/local/lib/python3.10/dist-packages (from pandas) (2.8.2)\n",
            "Requirement already satisfied: pytz>=2020.1 in /usr/local/lib/python3.10/dist-packages (from pandas) (2024.1)\n",
            "Requirement already satisfied: tzdata>=2022.1 in /usr/local/lib/python3.10/dist-packages (from pandas) (2024.1)\n",
            "Requirement already satisfied: six>=1.5 in /usr/local/lib/python3.10/dist-packages (from python-dateutil>=2.8.2->pandas) (1.16.0)\n"
          ]
        }
      ]
    },
    {
      "cell_type": "code",
      "source": [
        "from google.colab import drive\n",
        "drive.mount('/content/drive')"
      ],
      "metadata": {
        "colab": {
          "base_uri": "https://localhost:8080/"
        },
        "id": "tUsXSBnoVEXl",
        "outputId": "32b3c79b-c01d-4a41-b501-5e72c828dc1e"
      },
      "execution_count": 5,
      "outputs": [
        {
          "output_type": "stream",
          "name": "stdout",
          "text": [
            "Mounted at /content/drive\n"
          ]
        }
      ]
    },
    {
      "cell_type": "code",
      "source": [
        "filepath = ('/content/drive/MyDrive/data.csv')\n",
        "with open(filepath, 'r') as file:\n",
        "    content = file.read()\n",
        "    print(content)"
      ],
      "metadata": {
        "colab": {
          "base_uri": "https://localhost:8080/"
        },
        "id": "U5UdnqxKWj9-",
        "outputId": "a368c66d-e407-4774-d6de-2be3c8a1eb13"
      },
      "execution_count": 10,
      "outputs": [
        {
          "output_type": "stream",
          "name": "stdout",
          "text": [
            "Duration,Pulse,Maxpulse,Calories\n",
            "60,110,130,409.1\n",
            "60,117,145,479.0\n",
            "60,103,135,340.0\n",
            "45,109,175,282.4\n",
            "45,117,148,406.0\n",
            "60,102,127,300.0\n",
            "60,110,136,374.0\n",
            "45,104,134,253.3\n",
            "30,109,133,195.1\n",
            "60,98,124,269.0\n",
            "60,103,147,329.3\n",
            "60,100,120,250.7\n",
            "60,106,128,345.3\n",
            "60,104,132,379.3\n",
            "60,98,123,275.0\n",
            "60,98,120,215.2\n",
            "60,100,120,300.0\n",
            "45,90,112,\n",
            "60,103,123,323.0\n",
            "45,97,125,243.0\n",
            "60,108,131,364.2\n",
            "45,100,119,282.0\n",
            "60,130,101,300.0\n",
            "45,105,132,246.0\n",
            "60,102,126,334.5\n",
            "60,100,120,250.0\n",
            "60,92,118,241.0\n",
            "60,103,132,\n",
            "60,100,132,280.0\n",
            "60,102,129,380.3\n",
            "60,92,115,243.0\n",
            "45,90,112,180.1\n",
            "60,101,124,299.0\n",
            "60,93,113,223.0\n",
            "60,107,136,361.0\n",
            "60,114,140,415.0\n",
            "60,102,127,300.0\n",
            "60,100,120,300.0\n",
            "60,100,120,300.0\n",
            "45,104,129,266.0\n",
            "45,90,112,180.1\n",
            "60,98,126,286.0\n",
            "60,100,122,329.4\n",
            "60,111,138,400.0\n",
            "60,111,131,397.0\n",
            "60,99,119,273.0\n",
            "60,109,153,387.6\n",
            "45,111,136,300.0\n",
            "45,108,129,298.0\n",
            "60,111,139,397.6\n",
            "60,107,136,380.2\n",
            "80,123,146,643.1\n",
            "60,106,130,263.0\n",
            "60,118,151,486.0\n",
            "30,136,175,238.0\n",
            "60,121,146,450.7\n",
            "60,118,121,413.0\n",
            "45,115,144,305.0\n",
            "20,153,172,226.4\n",
            "45,123,152,321.0\n",
            "210,108,160,1376.0\n",
            "160,110,137,1034.4\n",
            "160,109,135,853.0\n",
            "45,118,141,341.0\n",
            "20,110,130,131.4\n",
            "180,90,130,800.4\n",
            "150,105,135,873.4\n",
            "150,107,130,816.0\n",
            "20,106,136,110.4\n",
            "300,108,143,1500.2\n",
            "150,97,129,1115.0\n",
            "60,109,153,387.6\n",
            "90,100,127,700.0\n",
            "150,97,127,953.2\n",
            "45,114,146,304.0\n",
            "90,98,125,563.2\n",
            "45,105,134,251.0\n",
            "45,110,141,300.0\n",
            "120,100,130,500.4\n",
            "270,100,131,1729.0\n",
            "30,159,182,319.2\n",
            "45,149,169,344.0\n",
            "30,103,139,151.1\n",
            "120,100,130,500.0\n",
            "45,100,120,225.3\n",
            "30,151,170,300.0\n",
            "45,102,136,234.0\n",
            "120,100,157,1000.1\n",
            "45,129,103,242.0\n",
            "20,83,107,50.3\n",
            "180,101,127,600.1\n",
            "45,107,137,\n",
            "30,90,107,105.3\n",
            "15,80,100,50.5\n",
            "20,150,171,127.4\n",
            "20,151,168,229.4\n",
            "30,95,128,128.2\n",
            "25,152,168,244.2\n",
            "30,109,131,188.2\n",
            "90,93,124,604.1\n",
            "20,95,112,77.7\n",
            "90,90,110,500.0\n",
            "90,90,100,500.0\n",
            "90,90,100,500.4\n",
            "30,92,108,92.7\n",
            "30,93,128,124.0\n",
            "180,90,120,800.3\n",
            "30,90,120,86.2\n",
            "90,90,120,500.3\n",
            "210,137,184,1860.4\n",
            "60,102,124,325.2\n",
            "45,107,124,275.0\n",
            "15,124,139,124.2\n",
            "45,100,120,225.3\n",
            "60,108,131,367.6\n",
            "60,108,151,351.7\n",
            "60,116,141,443.0\n",
            "60,97,122,277.4\n",
            "60,105,125,\n",
            "60,103,124,332.7\n",
            "30,112,137,193.9\n",
            "45,100,120,100.7\n",
            "60,119,169,336.7\n",
            "60,107,127,344.9\n",
            "60,111,151,368.5\n",
            "60,98,122,271.0\n",
            "60,97,124,275.3\n",
            "60,109,127,382.0\n",
            "90,99,125,466.4\n",
            "60,114,151,384.0\n",
            "60,104,134,342.5\n",
            "60,107,138,357.5\n",
            "60,103,133,335.0\n",
            "60,106,132,327.5\n",
            "60,103,136,339.0\n",
            "20,136,156,189.0\n",
            "45,117,143,317.7\n",
            "45,115,137,318.0\n",
            "45,113,138,308.0\n",
            "20,141,162,222.4\n",
            "60,108,135,390.0\n",
            "60,97,127,\n",
            "45,100,120,250.4\n",
            "45,122,149,335.4\n",
            "60,136,170,470.2\n",
            "45,106,126,270.8\n",
            "60,107,136,400.0\n",
            "60,112,146,361.9\n",
            "30,103,127,185.0\n",
            "60,110,150,409.4\n",
            "60,106,134,343.0\n",
            "60,109,129,353.2\n",
            "60,109,138,374.0\n",
            "30,150,167,275.8\n",
            "60,105,128,328.0\n",
            "60,111,151,368.5\n",
            "60,97,131,270.4\n",
            "60,100,120,270.4\n",
            "60,114,150,382.8\n",
            "30,80,120,240.9\n",
            "30,85,120,250.4\n",
            "45,90,130,260.4\n",
            "45,95,130,270.0\n",
            "45,100,140,280.9\n",
            "60,105,140,290.8\n",
            "60,110,145,300.0\n",
            "60,115,145,310.2\n",
            "75,120,150,320.4\n",
            "75,125,150,330.4\n"
          ]
        }
      ]
    },
    {
      "cell_type": "code",
      "source": [
        "filepath = '/content/drive/My Drive/data.csv'\n",
        "data_frame = pd.read_csv(filepath)\n",
        "\n",
        "stats_summary = data_frame.describe()\n",
        "print(stats_summary)"
      ],
      "metadata": {
        "colab": {
          "base_uri": "https://localhost:8080/"
        },
        "id": "byDjrR_DhBIM",
        "outputId": "144e2391-63fa-4084-db7b-684801d4e68d"
      },
      "execution_count": 14,
      "outputs": [
        {
          "output_type": "stream",
          "name": "stdout",
          "text": [
            "         Duration       Pulse    Maxpulse     Calories\n",
            "count  169.000000  169.000000  169.000000   164.000000\n",
            "mean    63.846154  107.461538  134.047337   375.790244\n",
            "std     42.299949   14.510259   16.450434   266.379919\n",
            "min     15.000000   80.000000  100.000000    50.300000\n",
            "25%     45.000000  100.000000  124.000000   250.925000\n",
            "50%     60.000000  105.000000  131.000000   318.600000\n",
            "75%     60.000000  111.000000  141.000000   387.600000\n",
            "max    300.000000  159.000000  184.000000  1860.400000\n"
          ]
        }
      ]
    },
    {
      "cell_type": "code",
      "source": [
        "filepath = '/content/drive/My Drive/data.csv'\n",
        "df = pd.read_csv(filepath)\n",
        "print(\"Null values before replacement:\")\n",
        "print(df.isnull().sum())\n",
        "df.fillna(df.mean(), inplace=True)\n",
        "print(\"\\nNull values after replacement:\")\n",
        "print(df.isnull().sum())\n",
        "df.to_csv('data_cleaned.csv', index=False)"
      ],
      "metadata": {
        "colab": {
          "base_uri": "https://localhost:8080/"
        },
        "id": "61Ts5Zgsjah2",
        "outputId": "8d78815d-a84e-46b6-c4a0-c98f38ea6446"
      },
      "execution_count": 18,
      "outputs": [
        {
          "output_type": "stream",
          "name": "stdout",
          "text": [
            "Null values before replacement:\n",
            "Duration    0\n",
            "Pulse       0\n",
            "Maxpulse    0\n",
            "Calories    5\n",
            "dtype: int64\n",
            "\n",
            "Null values after replacement:\n",
            "Duration    0\n",
            "Pulse       0\n",
            "Maxpulse    0\n",
            "Calories    0\n",
            "dtype: int64\n"
          ]
        }
      ]
    },
    {
      "cell_type": "code",
      "source": [
        "filepath = '/content/drive/My Drive/data.csv'\n",
        "df = pd.read_csv(filepath)\n",
        "columns_to_aggregate = ['Duration', 'Pulse']\n",
        "a = df[columns_to_aggregate].agg(['min', 'max', 'count', 'mean'])\n",
        "print(\"Aggregated Data:\")\n",
        "print(a)\n",
        "\n",
        "\n"
      ],
      "metadata": {
        "colab": {
          "base_uri": "https://localhost:8080/"
        },
        "id": "Q1ZGuSwElMup",
        "outputId": "cc162acf-330e-491e-e163-dcb7f7f291cd"
      },
      "execution_count": 25,
      "outputs": [
        {
          "output_type": "stream",
          "name": "stdout",
          "text": [
            "Aggregated Data:\n",
            "         Duration       Pulse\n",
            "min     15.000000   80.000000\n",
            "max    300.000000  159.000000\n",
            "count  169.000000  169.000000\n",
            "mean    63.846154  107.461538\n"
          ]
        }
      ]
    },
    {
      "cell_type": "code",
      "source": [
        "print(\"\\nRows with Calories between 500 and 1000:\")\n",
        "filtered_df_2= df[(df[ 'Calories'] > 500) & (df[ 'Pulse'] < 100)]\n",
        "print (filtered_df_2)"
      ],
      "metadata": {
        "colab": {
          "base_uri": "https://localhost:8080/"
        },
        "id": "LaT-GsUyy7Xe",
        "outputId": "3e206c90-47af-4fcf-d91f-5bd49b56e723"
      },
      "execution_count": 33,
      "outputs": [
        {
          "output_type": "stream",
          "name": "stdout",
          "text": [
            "\n",
            "Rows with Calories between 500 and 1000:\n",
            "     Duration  Pulse  Maxpulse  Calories\n",
            "65        180     90       130     800.4\n",
            "70        150     97       129    1115.0\n",
            "73        150     97       127     953.2\n",
            "75         90     98       125     563.2\n",
            "99         90     93       124     604.1\n",
            "103        90     90       100     500.4\n",
            "106       180     90       120     800.3\n",
            "108        90     90       120     500.3\n"
          ]
        }
      ]
    },
    {
      "cell_type": "code",
      "source": [
        "print(\"\\nRows with Calories between 500 and 1000:\")\n",
        "filtered_df = df[(df[ 'Calories'] >= 500) & (df[ 'Calories'] <= 1000)]\n",
        "print (filtered_df)"
      ],
      "metadata": {
        "colab": {
          "base_uri": "https://localhost:8080/"
        },
        "id": "BAaok7cq0K4a",
        "outputId": "48a9190d-32b1-41bd-ca07-407f8b083a4c"
      },
      "execution_count": 36,
      "outputs": [
        {
          "output_type": "stream",
          "name": "stdout",
          "text": [
            "\n",
            "Rows with Calories between 500 and 1000:\n",
            "     Duration  Pulse  Maxpulse  Calories\n",
            "51         80    123       146     643.1\n",
            "62        160    109       135     853.0\n",
            "65        180     90       130     800.4\n",
            "66        150    105       135     873.4\n",
            "67        150    107       130     816.0\n",
            "72         90    100       127     700.0\n",
            "73        150     97       127     953.2\n",
            "75         90     98       125     563.2\n",
            "78        120    100       130     500.4\n",
            "83        120    100       130     500.0\n",
            "90        180    101       127     600.1\n",
            "99         90     93       124     604.1\n",
            "101        90     90       110     500.0\n",
            "102        90     90       100     500.0\n",
            "103        90     90       100     500.4\n",
            "106       180     90       120     800.3\n",
            "108        90     90       120     500.3\n"
          ]
        }
      ]
    },
    {
      "cell_type": "code",
      "source": [
        "df_modified = df.drop(columns=[ 'Maxpulse' ])\n",
        "print(\"\\nDataframe 'df_modified' without 'Maxpulse' column:\")\n",
        "print(df_modified.head())"
      ],
      "metadata": {
        "colab": {
          "base_uri": "https://localhost:8080/"
        },
        "id": "JDBptRM92GAV",
        "outputId": "2dec30c7-ad49-4622-c571-7983f3cf706c"
      },
      "execution_count": 38,
      "outputs": [
        {
          "output_type": "stream",
          "name": "stdout",
          "text": [
            "\n",
            "Dataframe 'df_modified' without 'Maxpulse' column:\n",
            "   Duration  Pulse  Calories\n",
            "0        60    110     409.1\n",
            "1        60    117     479.0\n",
            "2        60    103     340.0\n",
            "3        45    109     282.4\n",
            "4        45    117     406.0\n"
          ]
        }
      ]
    },
    {
      "cell_type": "code",
      "source": [
        "df.drop(columns=['Maxpulse'], inplace=True)\n",
        "print(\"\\nOriginal dataframe after deleting 'Maxpulse':\")\n",
        "print(df.head())"
      ],
      "metadata": {
        "colab": {
          "base_uri": "https://localhost:8080/"
        },
        "id": "r2YYn-HX2n-A",
        "outputId": "c7b8fd47-e05e-4232-8249-662f7a65d406"
      },
      "execution_count": 39,
      "outputs": [
        {
          "output_type": "stream",
          "name": "stdout",
          "text": [
            "\n",
            "Original dataframe after deleting 'Maxpulse':\n",
            "   Duration  Pulse  Calories\n",
            "0        60    110     409.1\n",
            "1        60    117     479.0\n",
            "2        60    103     340.0\n",
            "3        45    109     282.4\n",
            "4        45    117     406.0\n"
          ]
        }
      ]
    },
    {
      "cell_type": "code",
      "source": [
        "import matplotlib.pyplot as plt\n",
        "plt.figure (figsize=(10, 6))\n",
        "plt.scatter(df[ 'Duration'], df[ 'Calories'], color='blue')\n",
        "plt.title( 'Scatter Plot of Duration vs. Calories')\n",
        "plt.xlabel ('Duration')\n",
        "plt.ylabel('Calories')\n",
        "plt.show"
      ],
      "metadata": {
        "colab": {
          "base_uri": "https://localhost:8080/",
          "height": 733
        },
        "id": "zSOuLUk46hyH",
        "outputId": "4bb33a43-774f-4600-bcf5-aac715fc6f5d"
      },
      "execution_count": 46,
      "outputs": [
        {
          "output_type": "execute_result",
          "data": {
            "text/plain": [
              "<function matplotlib.pyplot.show(close=None, block=None)>"
            ],
            "text/html": [
              "<div style=\"max-width:800px; border: 1px solid var(--colab-border-color);\"><style>\n",
              "      pre.function-repr-contents {\n",
              "        overflow-x: auto;\n",
              "        padding: 8px 12px;\n",
              "        max-height: 500px;\n",
              "      }\n",
              "\n",
              "      pre.function-repr-contents.function-repr-contents-collapsed {\n",
              "        cursor: pointer;\n",
              "        max-height: 100px;\n",
              "      }\n",
              "    </style>\n",
              "    <pre style=\"white-space: initial; background:\n",
              "         var(--colab-secondary-surface-color); padding: 8px 12px;\n",
              "         border-bottom: 1px solid var(--colab-border-color);\"><b>matplotlib.pyplot.show</b><br/>def show(*args, **kwargs)</pre><pre class=\"function-repr-contents function-repr-contents-collapsed\" style=\"\"><a class=\"filepath\" style=\"display:none\" href=\"#\">/usr/local/lib/python3.10/dist-packages/matplotlib/pyplot.py</a>Display all open figures.\n",
              "\n",
              "Parameters\n",
              "----------\n",
              "block : bool, optional\n",
              "    Whether to wait for all figures to be closed before returning.\n",
              "\n",
              "    If `True` block and run the GUI main loop until all figure windows\n",
              "    are closed.\n",
              "\n",
              "    If `False` ensure that all figure windows are displayed and return\n",
              "    immediately.  In this case, you are responsible for ensuring\n",
              "    that the event loop is running to have responsive figures.\n",
              "\n",
              "    Defaults to True in non-interactive mode and to False in interactive\n",
              "    mode (see `.pyplot.isinteractive`).\n",
              "\n",
              "See Also\n",
              "--------\n",
              "ion : Enable interactive mode, which shows / updates the figure after\n",
              "      every plotting command, so that calling ``show()`` is not necessary.\n",
              "ioff : Disable interactive mode.\n",
              "savefig : Save the figure to an image file instead of showing it on screen.\n",
              "\n",
              "Notes\n",
              "-----\n",
              "**Saving figures to file and showing a window at the same time**\n",
              "\n",
              "If you want an image file as well as a user interface window, use\n",
              "`.pyplot.savefig` before `.pyplot.show`. At the end of (a blocking)\n",
              "``show()`` the figure is closed and thus unregistered from pyplot. Calling\n",
              "`.pyplot.savefig` afterwards would save a new and thus empty figure. This\n",
              "limitation of command order does not apply if the show is non-blocking or\n",
              "if you keep a reference to the figure and use `.Figure.savefig`.\n",
              "\n",
              "**Auto-show in jupyter notebooks**\n",
              "\n",
              "The jupyter backends (activated via ``%matplotlib inline``,\n",
              "``%matplotlib notebook``, or ``%matplotlib widget``), call ``show()`` at\n",
              "the end of every cell by default. Thus, you usually don&#x27;t have to call it\n",
              "explicitly there.</pre>\n",
              "      <script>\n",
              "      if (google.colab.kernel.accessAllowed && google.colab.files && google.colab.files.view) {\n",
              "        for (const element of document.querySelectorAll('.filepath')) {\n",
              "          element.style.display = 'block'\n",
              "          element.onclick = (event) => {\n",
              "            event.preventDefault();\n",
              "            event.stopPropagation();\n",
              "            google.colab.files.view(element.textContent, 401);\n",
              "          };\n",
              "        }\n",
              "      }\n",
              "      for (const element of document.querySelectorAll('.function-repr-contents')) {\n",
              "        element.onclick = (event) => {\n",
              "          event.preventDefault();\n",
              "          event.stopPropagation();\n",
              "          element.classList.toggle('function-repr-contents-collapsed');\n",
              "        };\n",
              "      }\n",
              "      </script>\n",
              "      </div>"
            ]
          },
          "metadata": {},
          "execution_count": 46
        },
        {
          "output_type": "display_data",
          "data": {
            "text/plain": [
              "<Figure size 1000x600 with 1 Axes>"
            ],
            "image/png": "[encoded data removed]"
          },
          "metadata": {}
        }
      ]
    }
  ]
}