{
  "nbformat": 4,
  "nbformat_minor": 0,
  "metadata": {
    "colab": {
      "provenance": []
    },
    "kernelspec": {
      "name": "python3",
      "display_name": "Python 3"
    },
    "language_info": {
      "name": "python"
    }
  },
  "cells": [
    {
      "cell_type": "markdown",
      "source": [
        "1.Counter.count (Class Variable):\n",
        " This is a class variable, meaning it is shared across all instances of the Counter class.\n",
        "\n",
        "\n",
        " self._count (Instance Variable):\n",
        " This is an instance variable, meaning it is unique to each instance of the Counter class.\n"
      ],
      "metadata": {
        "id": "_L9OtgqK_FYo"
      }
    },
    {
      "cell_type": "code",
      "source": [
        "class Counter:\n",
        "    count = 0\n",
        "\n",
        "    def __init__(self):\n",
        "        self._count = 0\n",
        "\n",
        "    def increment(self):\n",
        "        self._count += 1\n",
        "        Counter.count += 1\n",
        "\n",
        "    def get_counts(self):\n",
        "        return f\"Instance count: {self._count}, Class count: {Counter.count}\"\n",
        "\n",
        "\n",
        "\n",
        "a = Counter()\n",
        "b = Counter()\n",
        "\n",
        "\n",
        "a.increment()\n",
        "a.increment()\n",
        "b.increment()\n",
        "\n",
        "\n",
        "print(a.get_counts())\n",
        "print(b.get_counts())\n"
      ],
      "metadata": {
        "colab": {
          "base_uri": "https://localhost:8080/"
        },
        "id": "fZ5L3OES7oUS",
        "outputId": "0e31d540-41e2-4e92-baa9-5167fd479174"
      },
      "execution_count": 31,
      "outputs": [
        {
          "output_type": "stream",
          "name": "stdout",
          "text": [
            "Instance count: 2, Class count: 3\n",
            "Instance count: 1, Class count: 3\n"
          ]
        }
      ]
    },
    {
      "cell_type": "code",
      "source": [
        "def sum_all(*args):\n",
        "    return sum(args)\n",
        "\n",
        "print(\"sum of 1,2,3 is:\", sum_all(1,2,3))\n",
        "print(\"sum of 4,5,6,7 is:\", sum_all(4,5,6,7))\n"
      ],
      "metadata": {
        "colab": {
          "base_uri": "https://localhost:8080/"
        },
        "id": "IwqznxbLv7mU",
        "outputId": "4fc2add6-6114-42dc-fdf3-7100b0ca26ec"
      },
      "execution_count": 3,
      "outputs": [
        {
          "output_type": "stream",
          "name": "stdout",
          "text": [
            "sum of 1,2,3 is: 6\n",
            "sum of 4,5,6,7 is: 22\n"
          ]
        }
      ]
    },
    {
      "cell_type": "code",
      "source": [
        "def first_word(words):\n",
        "    return min(words)\n",
        "students = ['Mary', 'Zelda', 'Jimmy', 'Jack', 'Bartholomew', 'Gertrude']\n",
        "print(first_word(students))\n"
      ],
      "metadata": {
        "colab": {
          "base_uri": "https://localhost:8080/"
        },
        "id": "cOWN9eEPwi6q",
        "outputId": "cfae0663-e892-44d7-f9c1-acd276d3dbbf"
      },
      "execution_count": 8,
      "outputs": [
        {
          "output_type": "stream",
          "name": "stdout",
          "text": [
            "Bartholomew\n"
          ]
        }
      ]
    },
    {
      "cell_type": "code",
      "source": [
        "class Employee:\n",
        "\n",
        "    employee_count = 0\n",
        "\n",
        "    def __init__(self, name):\n",
        "        self.name = name\n",
        "        Employee.employee_count += 1\n",
        "\n",
        "\n",
        "emp1 = Employee(\"Nithin\")\n",
        "emp2 = Employee(\"Aman\")\n",
        "emp3 = Employee(\"Nitish\")\n",
        "\n",
        "print(\"Total number of Employees:\", Employee.employee_count)\n"
      ],
      "metadata": {
        "colab": {
          "base_uri": "https://localhost:8080/"
        },
        "id": "HGil2N1exkvG",
        "outputId": "1e710089-3671-4652-dc70-fd770c648137"
      },
      "execution_count": 15,
      "outputs": [
        {
          "output_type": "stream",
          "name": "stdout",
          "text": [
            "Total number of Employees: 3\n"
          ]
        }
      ]
    },
    {
      "cell_type": "code",
      "source": [
        "class Employee:\n",
        "    employee_count = 0\n",
        "    def __init__(self, name, family, salary, department):\n",
        "        self.name = name\n",
        "        self.family = family\n",
        "        self.salary = salary\n",
        "        self.department = department\n",
        "        Employee.employee_count += 1\n",
        "emp1 = Employee(\"Nithin\", \"Reddy\", 50000, \"HR\")\n",
        "emp2 = Employee(\"Aman\", \"Goud\", 60000, \"Finance\")\n",
        "print(f\"Employee 1: {emp1.name}, {emp1.family}, {emp1.salary}, {emp1.department}\")\n",
        "print(f\"Employee 2: {emp2.name}, {emp2.family}, {emp2.salary}, {emp2.department}\")\n",
        "print(\"Total number of Employees:\", Employee.employee_count)\n"
      ],
      "metadata": {
        "colab": {
          "base_uri": "https://localhost:8080/"
        },
        "id": "jswKL7VAy2QN",
        "outputId": "54eaf9e0-2d85-4ac9-e6d7-732a01a6478d"
      },
      "execution_count": 19,
      "outputs": [
        {
          "output_type": "stream",
          "name": "stdout",
          "text": [
            "Employee 1: Nithin, Reddy, 50000, HR\n",
            "Employee 2: Aman, Goud, 60000, Finance\n",
            "Total number of Employees: 2\n"
          ]
        }
      ]
    },
    {
      "cell_type": "code",
      "source": [
        "class Employee:\n",
        "\n",
        "    employee_count = 0\n",
        "    total_salary = 0\n",
        "\n",
        "    def __init__(self, name,salary):\n",
        "        self.name = name\n",
        "        self.salary = salary\n",
        "        Employee.employee_count += 1\n",
        "        Employee.total_salary += salary\n",
        "\n",
        "    @classmethod\n",
        "    def average_salary(cls):\n",
        "        if cls.employee_count == 0:\n",
        "            return 0\n",
        "        return cls.total_salary / cls.employee_count\n",
        "\n",
        "\n",
        "emp1 = Employee(\"nithin\", 50000)\n",
        "emp2 = Employee(\"aman\", 60000)\n",
        "emp3 = Employee(\"nick\",70000)\n",
        "\n",
        "print(\"Average salary of employees:\", Employee.average_salary())\n"
      ],
      "metadata": {
        "colab": {
          "base_uri": "https://localhost:8080/"
        },
        "id": "Cs7tZ70j0ERo",
        "outputId": "14a6b07a-c930-4f1b-f668-48130348ae8e"
      },
      "execution_count": 30,
      "outputs": [
        {
          "output_type": "stream",
          "name": "stdout",
          "text": [
            "Average salary of employees: 60000.0\n"
          ]
        }
      ]
    },
    {
      "cell_type": "code",
      "source": [
        "class Employee:\n",
        "\n",
        "    employee_count = 0\n",
        "    total_salary = 0\n",
        "\n",
        "    def __init__(self, name,salary,):\n",
        "        self.name = name\n",
        "        self.salary = salary\n",
        "        Employee.employee_count += 1\n",
        "        Employee.total_salary += salary\n",
        "\n",
        "    @classmethod\n",
        "    def average_salary(cls):\n",
        "        if cls.employee_count == 0:\n",
        "            return 0\n",
        "        return cls.total_salary / cls.employee_count\n",
        "\n",
        "\n",
        "class FulltimeEmployee(Employee):\n",
        "    def __init__(self, name, salary,benefits):\n",
        "        super().__init__(name ,salary,)\n",
        "        self.benefits = benefits\n",
        "\n",
        "\n",
        "ft_emp1 = FulltimeEmployee(\"Nithin\", 70000, [\"Health Insurance\"])\n",
        "ft_emp2 = FulltimeEmployee(\"Aman\", 80000, [\"Health Insurance\"])\n",
        "\n",
        "print(f\"Fulltime Employee 1: {ft_emp1.name}, {ft_emp1.salary},{ft_emp1.benefits}\")\n",
        "print(f\"Fulltime Employee 2: {ft_emp2.name},  {ft_emp2.salary},  {ft_emp2.benefits}\")\n",
        "print(\"Average salary of employees:\", Employee.average_salary())\n"
      ],
      "metadata": {
        "colab": {
          "base_uri": "https://localhost:8080/"
        },
        "id": "bhRV0yXo1bW9",
        "outputId": "d066ce33-a287-4792-8723-e331fa7dff86"
      },
      "execution_count": 26,
      "outputs": [
        {
          "output_type": "stream",
          "name": "stdout",
          "text": [
            "Fulltime Employee 1: Nithin, 70000,['Health Insurance']\n",
            "Fulltime Employee 2: Aman,  80000,  ['Health Insurance']\n",
            "Average salary of employees: 75000.0\n"
          ]
        }
      ]
    },
    {
      "cell_type": "code",
      "source": [
        "class Employee:\n",
        "\n",
        "    employee_count = 0\n",
        "    total_salary = 0\n",
        "\n",
        "    def __init__(self, name, salary,):\n",
        "        self.name = name\n",
        "        self.salary = salary\n",
        "        Employee.employee_count += 1\n",
        "        Employee.total_salary += salary\n",
        "\n",
        "    @classmethod\n",
        "    def average_salary(cls):\n",
        "        if cls.employee_count == 0:\n",
        "            return 0\n",
        "        return cls.total_salary / cls.employee_count\n",
        "\n",
        "    def display_info(self):\n",
        "        return f\"Name: {self.name},  Salary: {self.salary},\"\n",
        "\n",
        "\n",
        "class FulltimeEmployee(Employee):\n",
        "    def __init__(self, name, salary,  benefits):\n",
        "\n",
        "        super().__init__(name, salary,)\n",
        "        self.benefits = benefits\n",
        "\n",
        "    def display_info(self):\n",
        "        employee_info = super().display_info()\n",
        "        return f\"{employee_info}, Benefits: {self.benefits}\"\n",
        "\n",
        "\n",
        "emp1 = Employee(\"akshay\", 50000, )\n",
        "emp2 = Employee(\"praveen\", 60000, )\n",
        "\n",
        "\n",
        "ft_emp1 = FulltimeEmployee(\"nithin\", 70000, [\"Health Insurance\", ])\n",
        "ft_emp2 = FulltimeEmployee(\"aman\", 80000, [\"Health Insurance\",])\n",
        "\n",
        "\n",
        "print(emp1.display_info())\n",
        "print(emp2.display_info())\n",
        "print(ft_emp1.display_info())\n",
        "print(ft_emp2.display_info())\n",
        "print(\"Average salary of all employees:\", Employee.average_salary())\n"
      ],
      "metadata": {
        "colab": {
          "base_uri": "https://localhost:8080/"
        },
        "id": "m1L9482F3mTs",
        "outputId": "194b503a-d9d3-4926-a1b4-a492df3121d9"
      },
      "execution_count": 28,
      "outputs": [
        {
          "output_type": "stream",
          "name": "stdout",
          "text": [
            "Name: akshay,  Salary: 50000,\n",
            "Name: praveen,  Salary: 60000,\n",
            "Name: nithin,  Salary: 70000,, Benefits: ['Health Insurance']\n",
            "Name: aman,  Salary: 80000,, Benefits: ['Health Insurance']\n",
            "Average salary of all employees: 65000.0\n"
          ]
        }
      ]
    }
  ]
}