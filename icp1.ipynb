{
  "nbformat": 4,
  "nbformat_minor": 0,
  "metadata": {
    "colab": {
      "provenance": []
    },
    "kernelspec": {
      "name": "python3",
      "display_name": "Python 3"
    },
    "language_info": {
      "name": "python"
    }
  },
  "cells": [
    {
      "cell_type": "code",
      "execution_count": null,
      "metadata": {
        "colab": {
          "base_uri": "https://localhost:8080/"
        },
        "id": "WB-v7kir5Hfc",
        "outputId": "661690b9-6ba9-46bc-9327-86b04ab39546"
      },
      "outputs": [
        {
          "output_type": "stream",
          "name": "stdout",
          "text": [
            "NOHY\n"
          ]
        }
      ],
      "source": [
        "char_list = list(\"PYTHON\")\n",
        "del char_list[0]\n",
        "del char_list[1]\n",
        "char_list.reverse()\n",
        "resultant_string = ''.join(char_list)\n",
        "print(resultant_string)\n"
      ]
    },
    {
      "cell_type": "code",
      "source": [
        "n1 = float(input(\"first number is: \"))\n",
        "n2 = float(input(\"second number is: \"))\n",
        "add = n1 + n2\n",
        "subtract = n1 - n2\n",
        "multiplicate = n1 * n2\n",
        "division = n1 / n2\n",
        "print(f\"Add: {n1} + {n2} = {add}\")\n",
        "print(f\"Subtract: {n1} - {n2} = {subtract}\")\n",
        "print(f\"Multiplicate: {n1} * {n2} = {multiplicate}\")\n",
        "print(f\"Division: {n1} / {n2} = {division}\")\n"
      ],
      "metadata": {
        "colab": {
          "base_uri": "https://localhost:8080/"
        },
        "id": "7WYq8ZKU5UTL",
        "outputId": "dab7fa8b-69d3-452f-f562-390e1cae01b9"
      },
      "execution_count": null,
      "outputs": [
        {
          "output_type": "stream",
          "name": "stdout",
          "text": [
            "first number is: 10\n",
            "second number is: 12\n",
            "Add: 10.0 + 12.0 = 22.0\n",
            "Subtract: 10.0 - 12.0 = -2.0\n",
            "Multiplicate: 10.0 * 12.0 = 120.0\n",
            "Division: 10.0 / 12.0 = 0.8333333333333334\n"
          ]
        }
      ]
    },
    {
      "cell_type": "code",
      "source": [],
      "metadata": {
        "id": "757UVdrd9sw-"
      },
      "execution_count": null,
      "outputs": []
    },
    {
      "cell_type": "code",
      "source": [
        "sentence = input(\"Enter a sentence: \")\n",
        "updated_sentence = sentence.replace('python', 'pythons')\n",
        "print(\"Updated sentence:\", updated_sentence)\n"
      ],
      "metadata": {
        "colab": {
          "base_uri": "https://localhost:8080/"
        },
        "id": "75r9Pkqm5e_F",
        "outputId": "d23cee24-6fd6-48b2-8de9-7cefbebfc29b"
      },
      "execution_count": null,
      "outputs": [
        {
          "output_type": "stream",
          "name": "stdout",
          "text": [
            "Enter a sentence: python programming\n",
            "Updated sentence: pythons programming\n"
          ]
        }
      ]
    },
    {
      "cell_type": "code",
      "source": [
        "score = float(input(\"Enter the class score (0-100): \"))\n",
        "if 90 <= score <= 100:\n",
        "    grade = 'A'\n",
        "elif 80 <= score < 90:\n",
        "    grade = 'B'\n",
        "elif 70 <= score < 80:\n",
        "    grade = 'C'\n",
        "elif 60 <= score < 70:\n",
        "    grade = 'D'\n",
        "elif 0 <= score < 60:\n",
        "    grade = 'F'\n",
        "else:\n",
        "    grade = 'Invalid score'\n",
        "print(f\"The letter grade is: {grade}\")\n"
      ],
      "metadata": {
        "id": "wRzX0bzQJIh2",
        "outputId": "c439f4c6-b5d7-4cfd-8c60-073f804fcca3",
        "colab": {
          "base_uri": "https://localhost:8080/"
        }
      },
      "execution_count": null,
      "outputs": [
        {
          "output_type": "stream",
          "name": "stdout",
          "text": [
            "Enter the class score (0-100): 79\n",
            "The letter grade is: C\n"
          ]
        }
      ]
    },
    {
      "cell_type": "code",
      "source": [
        "x = [1, 'Python', 1.18]\n",
        "types_list = [type(element) for element in x]\n",
        "print(x)\n",
        "print(types_list)"
      ],
      "metadata": {
        "colab": {
          "base_uri": "https://localhost:8080/"
        },
        "id": "YF2dgg5Q5wtQ",
        "outputId": "7f07ae7a-c200-44f0-8aa8-b028931a7884"
      },
      "execution_count": null,
      "outputs": [
        {
          "output_type": "stream",
          "name": "stdout",
          "text": [
            "[1, 'Python', 1.18]\n",
            "[<class 'int'>, <class 'str'>, <class 'float'>]\n"
          ]
        }
      ]
    },
    {
      "cell_type": "code",
      "source": [
        "IT_companies = {'Facebook', 'Google', 'Microsoft', 'Apple', 'IBM', 'Oracle', 'Amazon'}\n",
        "length_of_IT_companies = len(IT_companies)\n",
        "print(\"The length of the set IT_companies is:\", length_of_IT_companies)"
      ],
      "metadata": {
        "colab": {
          "base_uri": "https://localhost:8080/"
        },
        "id": "yh6pcwp76AoJ",
        "outputId": "4fe6d71a-ca23-4d58-e14f-ba03d38b7808"
      },
      "execution_count": null,
      "outputs": [
        {
          "output_type": "stream",
          "name": "stdout",
          "text": [
            "The length of the set IT_companies is: 7\n"
          ]
        }
      ]
    },
    {
      "cell_type": "code",
      "source": [
        "IT_companies = {'Facebook', 'Google', 'Microsoft', 'Apple', 'IBM', 'Oracle', 'Amazon'}\n",
        "IT_companies.add('Twitter')\n",
        "print(\"Updated IT_companies set:\", IT_companies)\n"
      ],
      "metadata": {
        "colab": {
          "base_uri": "https://localhost:8080/"
        },
        "id": "WxI7BFYo6d67",
        "outputId": "ef0a1df7-3060-4826-829b-eab5016904d4"
      },
      "execution_count": null,
      "outputs": [
        {
          "output_type": "stream",
          "name": "stdout",
          "text": [
            "Updated IT_companies set: {'IBM', 'Twitter', 'Oracle', 'Apple', 'Facebook', 'Microsoft', 'Amazon', 'Google'}\n"
          ]
        }
      ]
    },
    {
      "cell_type": "code",
      "source": [
        "IT_companies = {'Facebook', 'Google', 'Microsoft', 'Apple', 'IBM', 'Oracle', 'Amazon'}\n",
        "new_companies = {'Twitter', 'Netflix', 'Salesforce', 'Adobe'}\n",
        "IT_companies.update(new_companies)\n",
        "print(\"Updated IT_companies set:\", IT_companies)\n"
      ],
      "metadata": {
        "colab": {
          "base_uri": "https://localhost:8080/"
        },
        "id": "8zoxOfWm7Got",
        "outputId": "ec20ba60-984c-435f-f9cb-c0faf22834e9"
      },
      "execution_count": null,
      "outputs": [
        {
          "output_type": "stream",
          "name": "stdout",
          "text": [
            "Updated IT_companies set: {'IBM', 'Twitter', 'Oracle', 'Salesforce', 'Amazon', 'Google', 'Netflix', 'Apple', 'Facebook', 'Microsoft', 'Adobe'}\n"
          ]
        }
      ]
    },
    {
      "cell_type": "code",
      "source": [
        "IT_companies = {'Facebook', 'Google', 'Microsoft', 'Apple', 'IBM', 'Oracle', 'Amazon'}\n",
        "IT_companies.remove('Google')\n",
        "print(\"Updated IT_companies set after removal using remove():\", IT_companies)\n"
      ],
      "metadata": {
        "colab": {
          "base_uri": "https://localhost:8080/"
        },
        "id": "iy50P_137cPS",
        "outputId": "cc7ed0f0-26da-4204-d05d-f056d3a54485"
      },
      "execution_count": null,
      "outputs": [
        {
          "output_type": "stream",
          "name": "stdout",
          "text": [
            "Updated IT_companies set after removal using remove(): {'IBM', 'Oracle', 'Apple', 'Facebook', 'Microsoft', 'Amazon'}\n"
          ]
        }
      ]
    },
    {
      "cell_type": "code",
      "source": [
        "IT_companies = {'Facebook', 'Google', 'Microsoft', 'Apple', 'IBM', 'Oracle', 'Amazon'}\n",
        "IT_companies.remove('IBM')\n",
        "IT_companies.discard('Oracle')\n",
        "IT_companies.discard('NonExistent')\n",
        "print(IT_companies)\n"
      ],
      "metadata": {
        "colab": {
          "base_uri": "https://localhost:8080/"
        },
        "id": "bOH2b-jZ74Op",
        "outputId": "6adcba78-2b4d-436c-d4ea-776876da7e93"
      },
      "execution_count": null,
      "outputs": [
        {
          "output_type": "stream",
          "name": "stdout",
          "text": [
            "{'Apple', 'Facebook', 'Microsoft', 'Amazon', 'Google'}\n"
          ]
        }
      ]
    },
    {
      "cell_type": "code",
      "source": [
        "A = {19, 22, 24, 20, 25, 26}\n",
        "B = {19, 22, 20, 25, 26, 24, 28, 27}\n",
        "joined_set = A.union(B)\n",
        "print(\"Joined set using union():\", joined_set)"
      ],
      "metadata": {
        "colab": {
          "base_uri": "https://localhost:8080/"
        },
        "id": "KMbW5Y-H-Wmp",
        "outputId": "9a8c917a-74f5-4fd6-f04c-3072166da37c"
      },
      "execution_count": null,
      "outputs": [
        {
          "output_type": "stream",
          "name": "stdout",
          "text": [
            "Joined set using union(): {19, 20, 22, 24, 25, 26, 27, 28}\n"
          ]
        }
      ]
    },
    {
      "cell_type": "code",
      "source": [
        "A = {19, 22, 24, 20, 25, 26}\n",
        "B = {19, 22, 20, 25, 26, 24, 28, 27}\n",
        "intersection_AB = A.intersection(B)\n",
        "print(\"Intersection of A and B using intersection():\", intersection_AB)"
      ],
      "metadata": {
        "colab": {
          "base_uri": "https://localhost:8080/"
        },
        "id": "F8uil1S7-ez3",
        "outputId": "d56087a0-cab4-4680-f1e2-de4a14041b18"
      },
      "execution_count": null,
      "outputs": [
        {
          "output_type": "stream",
          "name": "stdout",
          "text": [
            "Intersection of A and B using intersection(): {19, 20, 22, 24, 25, 26}\n"
          ]
        }
      ]
    },
    {
      "cell_type": "code",
      "source": [
        "A = {19, 22, 24, 20, 25, 26}\n",
        "B = {19, 22, 20, 25, 26, 24, 28, 27}\n",
        "is_subset = A.issubset(B)\n",
        "print(\"Is A a subset of B using issubset():\", is_subset)"
      ],
      "metadata": {
        "colab": {
          "base_uri": "https://localhost:8080/"
        },
        "id": "z9uMUeMh_AMd",
        "outputId": "e05aab5e-987c-4224-dc75-8c2bd0b1e4c4"
      },
      "execution_count": null,
      "outputs": [
        {
          "output_type": "stream",
          "name": "stdout",
          "text": [
            "Is A a subset of B using issubset(): True\n"
          ]
        }
      ]
    },
    {
      "cell_type": "code",
      "source": [
        "A = {19, 22, 24, 20, 25, 26}\n",
        "B = {19, 22, 20, 25, 26, 24, 28, 27}\n",
        "are_disjoint = A.isdisjoint(B)\n",
        "print(\"Are A and B disjoint sets using isdisjoint()?\", are_disjoint)"
      ],
      "metadata": {
        "colab": {
          "base_uri": "https://localhost:8080/"
        },
        "id": "GRAwpEtF_Pya",
        "outputId": "678f1cfd-9a76-4102-a72d-97656d6ac2ce"
      },
      "execution_count": null,
      "outputs": [
        {
          "output_type": "stream",
          "name": "stdout",
          "text": [
            "Are A and B disjoint sets using isdisjoint()? False\n"
          ]
        }
      ]
    },
    {
      "cell_type": "code",
      "source": [
        "A = {19, 22, 24, 20, 25, 26}\n",
        "B = {19, 22, 20, 25, 26, 24, 28, 27}\n",
        "join_A_with_B = A.union(B)\n",
        "print(\"Join A with B:\", join_A_with_B)"
      ],
      "metadata": {
        "colab": {
          "base_uri": "https://localhost:8080/"
        },
        "id": "uErVDC6G_1ii",
        "outputId": "53033f4e-4956-412a-8da0-82b3a4aec7d9"
      },
      "execution_count": null,
      "outputs": [
        {
          "output_type": "stream",
          "name": "stdout",
          "text": [
            "Join A with B: {19, 20, 22, 24, 25, 26, 27, 28}\n"
          ]
        }
      ]
    },
    {
      "cell_type": "code",
      "source": [
        "A = {19, 22, 24, 20, 25, 26}\n",
        "B = {19, 22, 20, 25, 26, 24, 28, 27}\n",
        "join_B_with_A = B.union(A)\n",
        "print(\"Join B with A:\", join_B_with_A)"
      ],
      "metadata": {
        "colab": {
          "base_uri": "https://localhost:8080/"
        },
        "id": "-_xSOSM__8bj",
        "outputId": "299f7038-99b1-4817-d7e5-514523012cf9"
      },
      "execution_count": null,
      "outputs": [
        {
          "output_type": "stream",
          "name": "stdout",
          "text": [
            "Join B with A: {19, 20, 22, 24, 25, 26, 27, 28}\n"
          ]
        }
      ]
    },
    {
      "cell_type": "code",
      "source": [
        "A = {19, 22, 24, 20, 25, 26}\n",
        "B = {19, 22, 20, 25, 26, 24, 28, 27}\n",
        "symmetric_diff = A.symmetric_difference(B)\n",
        "print(\"Symmetric difference between A and B using symmetric_difference():\", symmetric_diff)"
      ],
      "metadata": {
        "colab": {
          "base_uri": "https://localhost:8080/"
        },
        "id": "IXq1x5O-AXSE",
        "outputId": "b4b45ead-2281-4089-ac3d-7a8ffb474117"
      },
      "execution_count": null,
      "outputs": [
        {
          "output_type": "stream",
          "name": "stdout",
          "text": [
            "Symmetric difference between A and B using symmetric_difference(): {27, 28}\n"
          ]
        }
      ]
    },
    {
      "cell_type": "code",
      "source": [
        "A = {19, 22, 24, 20, 25, 26}\n",
        "B = {19, 22, 20, 25, 26, 24, 28, 27}\n",
        "print(\"Before deletion:\")\n",
        "print(\"A:\", A)\n",
        "print(\"B:\", B)\n",
        "del A\n",
        "del B\n",
        "try:\n",
        "    print(\"After deletion:\")\n",
        "    print(\"A:\", A)\n",
        "except NameError as e:\n",
        "    print(\"Error:\", e)\n",
        "\n",
        "try:\n",
        "    print(\"B:\", B)\n",
        "except NameError as e:\n",
        "    print(\"Error:\", e)"
      ],
      "metadata": {
        "colab": {
          "base_uri": "https://localhost:8080/"
        },
        "id": "OYLCmO4fAzIZ",
        "outputId": "4f522f22-00a1-4b0d-81ea-eb6c2bce5d9e"
      },
      "execution_count": null,
      "outputs": [
        {
          "output_type": "stream",
          "name": "stdout",
          "text": [
            "Before deletion:\n",
            "A: {19, 20, 22, 24, 25, 26}\n",
            "B: {19, 20, 22, 24, 25, 26, 27, 28}\n",
            "After deletion:\n",
            "Error: name 'A' is not defined\n",
            "Error: name 'B' is not defined\n"
          ]
        }
      ]
    },
    {
      "cell_type": "code",
      "source": [
        "age = [22, 19, 24, 25, 26, 24, 25, 24]\n",
        "age_set = set(age)\n",
        "list_length = len(age)\n",
        "set_length = len(age_set)\n",
        "print(\"Length of the list:\", list_length)\n",
        "print(\"Length of the set:\", set_length)\n",
        "print(\"Set created from list:\", age_set)"
      ],
      "metadata": {
        "colab": {
          "base_uri": "https://localhost:8080/"
        },
        "id": "7yCDhGryBJ_V",
        "outputId": "021856fd-9e06-40f0-ec2a-5123b40f62aa"
      },
      "execution_count": null,
      "outputs": [
        {
          "output_type": "stream",
          "name": "stdout",
          "text": [
            "Length of the list: 8\n",
            "Length of the set: 5\n",
            "Set created from list: {19, 22, 24, 25, 26}\n"
          ]
        }
      ]
    }
  ]
}