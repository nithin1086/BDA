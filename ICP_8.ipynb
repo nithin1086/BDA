{
  "nbformat": 4,
  "nbformat_minor": 0,
  "metadata": {
    "colab": {
      "provenance": [],
      "gpuType": "T4"
    },
    "kernelspec": {
      "name": "python3",
      "display_name": "Python 3"
    },
    "language_info": {
      "name": "python"
    },
    "accelerator": "GPU"
  },
  "cells": [
    {
      "cell_type": "code",
      "execution_count": 1,
      "metadata": {
        "id": "BA2PRzAfZwyH"
      },
      "outputs": [],
      "source": [
        "from pyspark import SparkContext\n",
        "\n",
        "sc = SparkContext(\"local\", \"Natural Numbers\")\n",
        "nums_rdd = sc.parallelize(range(1, 16))\n",
        "\n"
      ]
    },
    {
      "cell_type": "code",
      "source": [
        "print(nums_rdd.collect())  # Show elements\n",
        "print(nums_rdd.getNumPartitions())  # Show number of partitions"
      ],
      "metadata": {
        "colab": {
          "base_uri": "https://localhost:8080/"
        },
        "id": "xRbe7dSeZ-Wu",
        "outputId": "d6f64df7-a492-48b9-f5f5-08b1222fa490"
      },
      "execution_count": 2,
      "outputs": [
        {
          "output_type": "stream",
          "name": "stdout",
          "text": [
            "[1, 2, 3, 4, 5, 6, 7, 8, 9, 10, 11, 12, 13, 14, 15]\n",
            "1\n"
          ]
        }
      ]
    },
    {
      "cell_type": "code",
      "source": [
        "# Used to print the first element in the list\n",
        "first_num = nums_rdd.first()\n",
        "print(\"First element:\", first_num)\n"
      ],
      "metadata": {
        "colab": {
          "base_uri": "https://localhost:8080/"
        },
        "id": "ocKbTi_gabl2",
        "outputId": "48353be1-a742-4ae0-8297-e141d6e63695"
      },
      "execution_count": 3,
      "outputs": [
        {
          "output_type": "stream",
          "name": "stdout",
          "text": [
            "First element: 1\n"
          ]
        }
      ]
    },
    {
      "cell_type": "code",
      "source": [
        "even_rdd = nums_rdd.filter(lambda x: x % 2 == 0)\n",
        "print(\"Even Numbers:\",even_rdd.collect())"
      ],
      "metadata": {
        "colab": {
          "base_uri": "https://localhost:8080/"
        },
        "id": "ryOV_xjeahO6",
        "outputId": "9c52d120-8f2d-4259-b48d-818196aa5a3c"
      },
      "execution_count": 4,
      "outputs": [
        {
          "output_type": "stream",
          "name": "stdout",
          "text": [
            "Even Numbers: [2, 4, 6, 8, 10, 12, 14]\n"
          ]
        }
      ]
    },
    {
      "cell_type": "code",
      "source": [
        "squared_rdd = nums_rdd.map(lambda x: x ** 2)\n",
        "print(\"Squared_num:\",squared_rdd.collect())"
      ],
      "metadata": {
        "colab": {
          "base_uri": "https://localhost:8080/"
        },
        "id": "j_1EU11NaqTi",
        "outputId": "ea53ae79-e637-4b5f-b8d5-0c2c18249220"
      },
      "execution_count": 5,
      "outputs": [
        {
          "output_type": "stream",
          "name": "stdout",
          "text": [
            "Squared_num: [1, 4, 9, 16, 25, 36, 49, 64, 81, 100, 121, 144, 169, 196, 225]\n"
          ]
        }
      ]
    },
    {
      "cell_type": "code",
      "source": [
        "total_sum = nums_rdd.reduce(lambda x, y: x + y)\n",
        "print(\"Sum of nums:\",total_sum)"
      ],
      "metadata": {
        "colab": {
          "base_uri": "https://localhost:8080/"
        },
        "id": "rTeXA7l_a6i2",
        "outputId": "1a0f3542-f4e1-48ad-b128-5398c14fedae"
      },
      "execution_count": 6,
      "outputs": [
        {
          "output_type": "stream",
          "name": "stdout",
          "text": [
            "Sum of nums: 120\n"
          ]
        }
      ]
    },
    {
      "cell_type": "code",
      "source": [
        "nums_rdd.saveAsTextFile(\"natural_numbers.txt\")"
      ],
      "metadata": {
        "id": "kQTpYCp5a_Al"
      },
      "execution_count": 7,
      "outputs": []
    },
    {
      "cell_type": "code",
      "source": [
        "more_nums_rdd = sc.parallelize([16, 17, 18, 19, 20])\n",
        "combined_rdd = nums_rdd.union(more_nums_rdd)\n",
        "print(\"Combined_nums:\",combined_rdd.collect())"
      ],
      "metadata": {
        "colab": {
          "base_uri": "https://localhost:8080/"
        },
        "id": "L9rzxr-lbE4d",
        "outputId": "7a33e8b2-f6fb-4337-8321-cb1793d6b1de"
      },
      "execution_count": 8,
      "outputs": [
        {
          "output_type": "stream",
          "name": "stdout",
          "text": [
            "Combined_nums: [1, 2, 3, 4, 5, 6, 7, 8, 9, 10, 11, 12, 13, 14, 15, 16, 17, 18, 19, 20]\n"
          ]
        }
      ]
    },
    {
      "cell_type": "code",
      "source": [
        "cartesian_rdd = nums_rdd.cartesian(more_nums_rdd)\n",
        "print(\"Cartesian Product:\",cartesian_rdd.collect())"
      ],
      "metadata": {
        "colab": {
          "base_uri": "https://localhost:8080/"
        },
        "id": "Q14lYdMnbHqV",
        "outputId": "8fc0ef6b-b27f-47c6-de13-b2d855db3eed"
      },
      "execution_count": 9,
      "outputs": [
        {
          "output_type": "stream",
          "name": "stdout",
          "text": [
            "Cartesian Product: [(1, 16), (1, 17), (1, 18), (1, 19), (1, 20), (2, 16), (2, 17), (2, 18), (2, 19), (2, 20), (3, 16), (3, 17), (3, 18), (3, 19), (3, 20), (4, 16), (4, 17), (4, 18), (4, 19), (4, 20), (5, 16), (5, 17), (5, 18), (5, 19), (5, 20), (6, 16), (6, 17), (6, 18), (6, 19), (6, 20), (7, 16), (7, 17), (7, 18), (7, 19), (7, 20), (8, 16), (8, 17), (8, 18), (8, 19), (8, 20), (9, 16), (9, 17), (9, 18), (9, 19), (9, 20), (10, 16), (10, 17), (10, 18), (10, 19), (10, 20), (11, 16), (11, 17), (11, 18), (11, 19), (11, 20), (12, 16), (12, 17), (12, 18), (12, 19), (12, 20), (13, 16), (13, 17), (13, 18), (13, 19), (13, 20), (14, 16), (14, 17), (14, 18), (14, 19), (14, 20), (15, 16), (15, 17), (15, 18), (15, 19), (15, 20)]\n"
          ]
        }
      ]
    },
    {
      "cell_type": "code",
      "source": [
        "dict_rdd = sc.parallelize([{\"name\": \"pavan\", \"age\": 20},\n",
        "                           {\"name\": \"Bobby\", \"age\": 21},\n",
        "                           {\"name\": \"praveen\", \"age\": 25}])\n",
        "print(\"Dictionary RDD:\",dict_rdd.collect())"
      ],
      "metadata": {
        "colab": {
          "base_uri": "https://localhost:8080/"
        },
        "id": "1nA3oyiBbJz_",
        "outputId": "f539f970-6700-4aae-a6d5-73d92c2d42b9"
      },
      "execution_count": 19,
      "outputs": [
        {
          "output_type": "stream",
          "name": "stdout",
          "text": [
            "Dictionary RDD: [{'name': 'pavan', 'age': 20}, {'name': 'Bobby', 'age': 21}, {'name': 'praveen', 'age': 25}]\n"
          ]
        }
      ]
    },
    {
      "cell_type": "code",
      "source": [
        "count_rdd = dict_rdd.flatMap(lambda x: x.items()).map(lambda x: (x[0], 1)).reduceByKey(lambda x, y: x + y)\n",
        "print(count_rdd.collect())"
      ],
      "metadata": {
        "colab": {
          "base_uri": "https://localhost:8080/"
        },
        "id": "inly9XIWbL-7",
        "outputId": "68df4fd7-d2e3-4bfa-e578-8269dd1b33f1"
      },
      "execution_count": 11,
      "outputs": [
        {
          "output_type": "stream",
          "name": "stdout",
          "text": [
            "[('name', 3), ('age', 3)]\n"
          ]
        }
      ]
    },
    {
      "cell_type": "code",
      "source": [
        "file_rdd = sc.textFile(\"file1.txt\").union(sc.textFile(\"file2.txt\"))\n",
        "print(file_rdd.collect())"
      ],
      "metadata": {
        "colab": {
          "base_uri": "https://localhost:8080/"
        },
        "id": "SH_Q0huzbPKC",
        "outputId": "1fe60e6a-0c05-4b9c-e629-926934f68093"
      },
      "execution_count": 12,
      "outputs": [
        {
          "output_type": "stream",
          "name": "stdout",
          "text": [
            "['hi how are you', 'hello where are yoou']\n"
          ]
        }
      ]
    },
    {
      "cell_type": "code",
      "source": [
        "print(file_rdd.take(5))"
      ],
      "metadata": {
        "colab": {
          "base_uri": "https://localhost:8080/"
        },
        "id": "Jvw9pwUecCVj",
        "outputId": "a4599c74-cacd-43ad-d4a4-91f4d26804a8"
      },
      "execution_count": 13,
      "outputs": [
        {
          "output_type": "stream",
          "name": "stdout",
          "text": [
            "['hi how are you', 'hello where are yoou']\n"
          ]
        }
      ]
    },
    {
      "cell_type": "code",
      "source": [
        "from pyspark.sql import SparkSession\n",
        "\n",
        "spark = SparkSession.builder.appName(\"DataFrame and Dataset\").getOrCreate()\n",
        "data = [(1, \"pavan\"), (2, \"Bobby\"), (3, \"praveen\")]\n",
        "columns = [\"id\", \"name\"]\n",
        "df = spark.createDataFrame(data, columns)\n",
        "\n",
        "# Show DataFrame\n",
        "df.show()"
      ],
      "metadata": {
        "colab": {
          "base_uri": "https://localhost:8080/"
        },
        "id": "vbNOFN3Qhclg",
        "outputId": "ddd2c89a-d483-4460-9f7e-4ce483ec21e0"
      },
      "execution_count": 17,
      "outputs": [
        {
          "output_type": "stream",
          "name": "stdout",
          "text": [
            "+---+-------+\n",
            "| id|   name|\n",
            "+---+-------+\n",
            "|  1|  pavan|\n",
            "|  2|  Bobby|\n",
            "|  3|praveen|\n",
            "+---+-------+\n",
            "\n"
          ]
        }
      ]
    },
    {
      "cell_type": "code",
      "source": [
        "# RDD Example\n",
        "rdd_example = sc.parallelize([1, 2, 3, 4])\n",
        "print(\"RDD:\", rdd_example.collect())\n",
        "\n",
        "# DataFrame Example\n",
        "df_example = spark.createDataFrame([(1, \"pavan\"), (2, \"Bobby\"), (3, \"praveen\")], [\"id\", \"name\"])\n",
        "df_example.show()\n",
        "\n",
        "# In PySpark, DataFrame is already a Dataset"
      ],
      "metadata": {
        "colab": {
          "base_uri": "https://localhost:8080/"
        },
        "id": "ppDHbOgOhk3l",
        "outputId": "d2064efd-d318-437b-a258-ed204087afc6"
      },
      "execution_count": 18,
      "outputs": [
        {
          "output_type": "stream",
          "name": "stdout",
          "text": [
            "RDD: [1, 2, 3, 4]\n",
            "+---+-------+\n",
            "| id|   name|\n",
            "+---+-------+\n",
            "|  1|  pavan|\n",
            "|  2|  Bobby|\n",
            "|  3|praveen|\n",
            "+---+-------+\n",
            "\n"
          ]
        }
      ]
    }
  ]
}